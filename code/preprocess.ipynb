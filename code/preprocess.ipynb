{
 "cells": [
  {
   "cell_type": "code",
   "execution_count": 144,
   "id": "4fddfe62-0878-4139-b847-900312c028ad",
   "metadata": {
    "tags": []
   },
   "outputs": [
    {
     "name": "stdout",
     "output_type": "stream",
     "text": [
      "Requirement already satisfied: pandas in /Users/tusharbudhwani/anaconda3/lib/python3.11/site-packages (2.0.3)\n",
      "Requirement already satisfied: python-dateutil>=2.8.2 in /Users/tusharbudhwani/anaconda3/lib/python3.11/site-packages (from pandas) (2.8.2)\n",
      "Requirement already satisfied: pytz>=2020.1 in /Users/tusharbudhwani/anaconda3/lib/python3.11/site-packages (from pandas) (2023.3.post1)\n",
      "Requirement already satisfied: tzdata>=2022.1 in /Users/tusharbudhwani/anaconda3/lib/python3.11/site-packages (from pandas) (2023.3)\n",
      "Requirement already satisfied: numpy>=1.21.0 in /Users/tusharbudhwani/anaconda3/lib/python3.11/site-packages (from pandas) (1.24.3)\n",
      "Requirement already satisfied: six>=1.5 in /Users/tusharbudhwani/anaconda3/lib/python3.11/site-packages (from python-dateutil>=2.8.2->pandas) (1.16.0)\n",
      "Requirement already satisfied: numpy in /Users/tusharbudhwani/anaconda3/lib/python3.11/site-packages (1.24.3)\n",
      "Requirement already satisfied: contractions in /Users/tusharbudhwani/anaconda3/lib/python3.11/site-packages (0.1.73)\n",
      "Requirement already satisfied: textsearch>=0.0.21 in /Users/tusharbudhwani/anaconda3/lib/python3.11/site-packages (from contractions) (0.0.24)\n",
      "Requirement already satisfied: anyascii in /Users/tusharbudhwani/anaconda3/lib/python3.11/site-packages (from textsearch>=0.0.21->contractions) (0.3.2)\n",
      "Requirement already satisfied: pyahocorasick in /Users/tusharbudhwani/anaconda3/lib/python3.11/site-packages (from textsearch>=0.0.21->contractions) (2.0.0)\n"
     ]
    }
   ],
   "source": [
    "!pip install pandas\n",
    "!pip install numpy\n",
    "!pip install contractions\n",
    "\n",
    "import pandas as pd\n",
    "import numpy as np\n",
    "import json"
   ]
  },
  {
   "cell_type": "markdown",
   "id": "e725d285",
   "metadata": {},
   "source": [
    "# Pre-processing (Query generation)"
   ]
  },
  {
   "cell_type": "code",
   "execution_count": 147,
   "id": "36910523",
   "metadata": {
    "tags": []
   },
   "outputs": [],
   "source": [
    "FILE_PATH = \"Datasets/train/train_Input_UserBased_PNC.json\"\n",
    "df = pd.read_json(FILE_PATH)"
   ]
  },
  {
   "cell_type": "code",
   "execution_count": 148,
   "id": "ab0d0067-f312-4de7-83ca-162b493def03",
   "metadata": {
    "tags": []
   },
   "outputs": [],
   "source": [
    "articles = pd.DataFrame(df['input'].apply(lambda x: x.split(\"article:\", 1)[-1].strip() if \"article:\" in x else None))"
   ]
  },
  {
   "cell_type": "code",
   "execution_count": 149,
   "id": "68f7a2f1",
   "metadata": {},
   "outputs": [
    {
     "data": {
      "text/plain": [
       "'Back in August, The Denver Post’s John Ingold scrutinized statements from conservatives that Colorado should free up money'"
      ]
     },
     "execution_count": 149,
     "metadata": {},
     "output_type": "execute_result"
    }
   ],
   "source": [
    "articles['input'].iloc[32]"
   ]
  },
  {
   "cell_type": "code",
   "execution_count": 150,
   "id": "337b8be7-8002-41a2-b126-82f1debdd7ff",
   "metadata": {
    "tags": []
   },
   "outputs": [
    {
     "name": "stdout",
     "output_type": "stream",
     "text": [
      "Requirement already satisfied: nltk in /Users/tusharbudhwani/anaconda3/lib/python3.11/site-packages (3.8.1)\n",
      "Requirement already satisfied: click in /Users/tusharbudhwani/anaconda3/lib/python3.11/site-packages (from nltk) (8.0.4)\n",
      "Requirement already satisfied: joblib in /Users/tusharbudhwani/anaconda3/lib/python3.11/site-packages (from nltk) (1.2.0)\n",
      "Requirement already satisfied: regex>=2021.8.3 in /Users/tusharbudhwani/anaconda3/lib/python3.11/site-packages (from nltk) (2022.7.9)\n",
      "Requirement already satisfied: tqdm in /Users/tusharbudhwani/anaconda3/lib/python3.11/site-packages (from nltk) (4.65.0)\n"
     ]
    },
    {
     "name": "stderr",
     "output_type": "stream",
     "text": [
      "[nltk_data] Downloading package punkt to\n",
      "[nltk_data]     /Users/tusharbudhwani/nltk_data...\n",
      "[nltk_data]   Package punkt is already up-to-date!\n",
      "[nltk_data] Downloading package stopwords to\n",
      "[nltk_data]     /Users/tusharbudhwani/nltk_data...\n",
      "[nltk_data]   Package stopwords is already up-to-date!\n",
      "[nltk_data] Downloading package wordnet to\n",
      "[nltk_data]     /Users/tusharbudhwani/nltk_data...\n",
      "[nltk_data]   Package wordnet is already up-to-date!\n"
     ]
    },
    {
     "data": {
      "text/plain": [
       "True"
      ]
     },
     "execution_count": 150,
     "metadata": {},
     "output_type": "execute_result"
    }
   ],
   "source": [
    "!pip install nltk\n",
    "import nltk\n",
    "from nltk.corpus import wordnet\n",
    "from nltk.corpus import stopwords\n",
    "from nltk.tokenize import word_tokenize\n",
    "import string\n",
    "import contractions\n",
    "import re\n",
    "\n",
    "nltk.download('punkt')\n",
    "nltk.download('stopwords')\n",
    "nltk.download('wordnet')"
   ]
  },
  {
   "cell_type": "code",
   "execution_count": 151,
   "id": "a16a8dcd-de5b-48f9-a53f-8339be027005",
   "metadata": {
    "tags": []
   },
   "outputs": [],
   "source": [
    "def expand_contractions(text):\n",
    "    \n",
    "    # Handle special case for U.S.\n",
    "    text = text.replace('U.S.', 'United States')\n",
    "    \n",
    "    \n",
    "    expanded_text = contractions.fix(text)\n",
    "    return expanded_text"
   ]
  },
  {
   "cell_type": "code",
   "execution_count": 152,
   "id": "c62a6754-54bf-4a3f-9eaf-ef0d8691c176",
   "metadata": {
    "tags": []
   },
   "outputs": [],
   "source": [
    "articles['expanded_contractions'] = articles['input'].apply(lambda x: expand_contractions(x))"
   ]
  },
  {
   "cell_type": "code",
   "execution_count": 153,
   "id": "b38a3434-7367-4424-b71a-e3092f0d9861",
   "metadata": {
    "tags": []
   },
   "outputs": [
    {
     "data": {
      "text/plain": [
       "0    it is hard to find a restaurant that does not ...\n",
       "1    as duchess catherine continues to peck away at...\n",
       "2    today, vanity fair national political editor t...\n",
       "3    on monday, the new york times published an exh...\n",
       "4    by julie miller, vanity fair inspired by the m...\n",
       "Name: lower_cased, dtype: object"
      ]
     },
     "execution_count": 153,
     "metadata": {},
     "output_type": "execute_result"
    }
   ],
   "source": [
    "articles['lower_cased'] = articles['expanded_contractions'].str.lower()\n",
    "articles['lower_cased'].head(5)"
   ]
  },
  {
   "cell_type": "code",
   "execution_count": 154,
   "id": "c8ceb8e9-aef1-486e-952c-7ad84c2f7a13",
   "metadata": {
    "tags": []
   },
   "outputs": [
    {
     "name": "stdout",
     "output_type": "stream",
     "text": [
      "Text after Stopword Removal:\n",
      " 0    hard find restaurant place little card table i...\n",
      "1    duchess catherine continues peck away furnishi...\n",
      "2    today , vanity fair national political editor ...\n",
      "3    monday , new york times published exhaustive o...\n",
      "4    julie miller , vanity fair inspired magazine '...\n",
      "Name: removed_stop_words, dtype: object\n"
     ]
    }
   ],
   "source": [
    "def remove_stopwords(text):\n",
    "    # Tokenize the text\n",
    "    words = word_tokenize(text)\n",
    "\n",
    "    # Get English stop words\n",
    "    stop_words = set(stopwords.words('english'))\n",
    "\n",
    "    # Remove stop words from the tokenized words\n",
    "    filtered_words = [word for word in words if word.lower() not in stop_words]\n",
    "\n",
    "    # Join the filtered words to form the final text\n",
    "    filtered_text = ' '.join(filtered_words)\n",
    "\n",
    "    return filtered_text\n",
    "\n",
    "# Example usage\n",
    "articles['removed_stop_words'] = articles['lower_cased'].apply(lambda x: remove_stopwords(x))\n",
    "print(\"Text after Stopword Removal:\\n\", articles['removed_stop_words'].head(5))"
   ]
  },
  {
   "cell_type": "code",
   "execution_count": 155,
   "id": "2bd7c628-fd63-4c39-83d8-7f193c3190a9",
   "metadata": {
    "tags": []
   },
   "outputs": [],
   "source": [
    "# Use re.sub() to remove parentheses\n",
    "def remove_extra_characters(text):\n",
    "  # Replace parentheses with an empty string\n",
    "  return re.sub(r'\\(|\\)|\\;|\\:|\\.|\\,|\\-|\\~|\\`', '', text)"
   ]
  },
  {
   "cell_type": "code",
   "execution_count": 156,
   "id": "22bb2055-c046-4300-8920-5e147f96fb9c",
   "metadata": {
    "tags": []
   },
   "outputs": [],
   "source": [
    "articles['removed_extra_characters'] = articles['removed_stop_words'].apply(lambda x: remove_extra_characters(x))"
   ]
  },
  {
   "cell_type": "code",
   "execution_count": 157,
   "id": "653f1ff2-07ce-4c4e-a8ca-5f57283588f8",
   "metadata": {
    "tags": []
   },
   "outputs": [
    {
     "data": {
      "text/plain": [
       "'hard find restaurant place little card table inquiring establishment    really awful   b  tolerable   c  sublime '"
      ]
     },
     "execution_count": 157,
     "metadata": {},
     "output_type": "execute_result"
    }
   ],
   "source": [
    "articles['removed_extra_characters'].iloc[0]"
   ]
  },
  {
   "cell_type": "code",
   "execution_count": 158,
   "id": "f8b219d8",
   "metadata": {},
   "outputs": [
    {
     "name": "stdout",
     "output_type": "stream",
     "text": [
      "Requirement already satisfied: spacy in /Users/tusharbudhwani/anaconda3/lib/python3.11/site-packages (3.7.2)\n",
      "Requirement already satisfied: spacy-legacy<3.1.0,>=3.0.11 in /Users/tusharbudhwani/anaconda3/lib/python3.11/site-packages (from spacy) (3.0.12)\n",
      "Requirement already satisfied: spacy-loggers<2.0.0,>=1.0.0 in /Users/tusharbudhwani/anaconda3/lib/python3.11/site-packages (from spacy) (1.0.5)\n",
      "Requirement already satisfied: murmurhash<1.1.0,>=0.28.0 in /Users/tusharbudhwani/anaconda3/lib/python3.11/site-packages (from spacy) (1.0.10)\n",
      "Requirement already satisfied: cymem<2.1.0,>=2.0.2 in /Users/tusharbudhwani/anaconda3/lib/python3.11/site-packages (from spacy) (2.0.8)\n",
      "Requirement already satisfied: preshed<3.1.0,>=3.0.2 in /Users/tusharbudhwani/anaconda3/lib/python3.11/site-packages (from spacy) (3.0.9)\n",
      "Requirement already satisfied: thinc<8.3.0,>=8.1.8 in /Users/tusharbudhwani/anaconda3/lib/python3.11/site-packages (from spacy) (8.2.1)\n",
      "Requirement already satisfied: wasabi<1.2.0,>=0.9.1 in /Users/tusharbudhwani/anaconda3/lib/python3.11/site-packages (from spacy) (1.1.2)\n",
      "Requirement already satisfied: srsly<3.0.0,>=2.4.3 in /Users/tusharbudhwani/anaconda3/lib/python3.11/site-packages (from spacy) (2.4.8)\n",
      "Requirement already satisfied: catalogue<2.1.0,>=2.0.6 in /Users/tusharbudhwani/anaconda3/lib/python3.11/site-packages (from spacy) (2.0.10)\n",
      "Requirement already satisfied: weasel<0.4.0,>=0.1.0 in /Users/tusharbudhwani/anaconda3/lib/python3.11/site-packages (from spacy) (0.3.4)\n",
      "Requirement already satisfied: typer<0.10.0,>=0.3.0 in /Users/tusharbudhwani/anaconda3/lib/python3.11/site-packages (from spacy) (0.9.0)\n",
      "Requirement already satisfied: smart-open<7.0.0,>=5.2.1 in /Users/tusharbudhwani/anaconda3/lib/python3.11/site-packages (from spacy) (5.2.1)\n",
      "Requirement already satisfied: tqdm<5.0.0,>=4.38.0 in /Users/tusharbudhwani/anaconda3/lib/python3.11/site-packages (from spacy) (4.65.0)\n",
      "Requirement already satisfied: requests<3.0.0,>=2.13.0 in /Users/tusharbudhwani/anaconda3/lib/python3.11/site-packages (from spacy) (2.31.0)\n",
      "Requirement already satisfied: pydantic!=1.8,!=1.8.1,<3.0.0,>=1.7.4 in /Users/tusharbudhwani/anaconda3/lib/python3.11/site-packages (from spacy) (1.10.8)\n",
      "Requirement already satisfied: jinja2 in /Users/tusharbudhwani/anaconda3/lib/python3.11/site-packages (from spacy) (3.1.2)\n",
      "Requirement already satisfied: setuptools in /Users/tusharbudhwani/anaconda3/lib/python3.11/site-packages (from spacy) (68.0.0)\n",
      "Requirement already satisfied: packaging>=20.0 in /Users/tusharbudhwani/anaconda3/lib/python3.11/site-packages (from spacy) (23.1)\n",
      "Requirement already satisfied: langcodes<4.0.0,>=3.2.0 in /Users/tusharbudhwani/anaconda3/lib/python3.11/site-packages (from spacy) (3.3.0)\n",
      "Requirement already satisfied: numpy>=1.19.0 in /Users/tusharbudhwani/anaconda3/lib/python3.11/site-packages (from spacy) (1.24.3)\n",
      "Requirement already satisfied: typing-extensions>=4.2.0 in /Users/tusharbudhwani/anaconda3/lib/python3.11/site-packages (from pydantic!=1.8,!=1.8.1,<3.0.0,>=1.7.4->spacy) (4.7.1)\n",
      "Requirement already satisfied: charset-normalizer<4,>=2 in /Users/tusharbudhwani/anaconda3/lib/python3.11/site-packages (from requests<3.0.0,>=2.13.0->spacy) (2.0.4)\n",
      "Requirement already satisfied: idna<4,>=2.5 in /Users/tusharbudhwani/anaconda3/lib/python3.11/site-packages (from requests<3.0.0,>=2.13.0->spacy) (3.4)\n",
      "Requirement already satisfied: urllib3<3,>=1.21.1 in /Users/tusharbudhwani/anaconda3/lib/python3.11/site-packages (from requests<3.0.0,>=2.13.0->spacy) (1.26.16)\n",
      "Requirement already satisfied: certifi>=2017.4.17 in /Users/tusharbudhwani/anaconda3/lib/python3.11/site-packages (from requests<3.0.0,>=2.13.0->spacy) (2023.11.17)\n",
      "Requirement already satisfied: blis<0.8.0,>=0.7.8 in /Users/tusharbudhwani/anaconda3/lib/python3.11/site-packages (from thinc<8.3.0,>=8.1.8->spacy) (0.7.11)\n",
      "Requirement already satisfied: confection<1.0.0,>=0.0.1 in /Users/tusharbudhwani/anaconda3/lib/python3.11/site-packages (from thinc<8.3.0,>=8.1.8->spacy) (0.1.4)\n",
      "Requirement already satisfied: click<9.0.0,>=7.1.1 in /Users/tusharbudhwani/anaconda3/lib/python3.11/site-packages (from typer<0.10.0,>=0.3.0->spacy) (8.0.4)\n",
      "Requirement already satisfied: cloudpathlib<0.17.0,>=0.7.0 in /Users/tusharbudhwani/anaconda3/lib/python3.11/site-packages (from weasel<0.4.0,>=0.1.0->spacy) (0.16.0)\n",
      "Requirement already satisfied: MarkupSafe>=2.0 in /Users/tusharbudhwani/anaconda3/lib/python3.11/site-packages (from jinja2->spacy) (2.1.1)\n",
      "Collecting en-core-web-sm==3.7.1\n",
      "  Downloading https://github.com/explosion/spacy-models/releases/download/en_core_web_sm-3.7.1/en_core_web_sm-3.7.1-py3-none-any.whl (12.8 MB)\n",
      "\u001b[2K     \u001b[90m━━━━━━━━━━━━━━━━━━━━━━━━━━━━━━━━━━━━━━━━\u001b[0m \u001b[32m12.8/12.8 MB\u001b[0m \u001b[31m1.5 MB/s\u001b[0m eta \u001b[36m0:00:00\u001b[0m00:01\u001b[0m00:01\u001b[0mm\n",
      "\u001b[?25hRequirement already satisfied: spacy<3.8.0,>=3.7.2 in /Users/tusharbudhwani/anaconda3/lib/python3.11/site-packages (from en-core-web-sm==3.7.1) (3.7.2)\n",
      "Requirement already satisfied: spacy-legacy<3.1.0,>=3.0.11 in /Users/tusharbudhwani/anaconda3/lib/python3.11/site-packages (from spacy<3.8.0,>=3.7.2->en-core-web-sm==3.7.1) (3.0.12)\n",
      "Requirement already satisfied: spacy-loggers<2.0.0,>=1.0.0 in /Users/tusharbudhwani/anaconda3/lib/python3.11/site-packages (from spacy<3.8.0,>=3.7.2->en-core-web-sm==3.7.1) (1.0.5)\n",
      "Requirement already satisfied: murmurhash<1.1.0,>=0.28.0 in /Users/tusharbudhwani/anaconda3/lib/python3.11/site-packages (from spacy<3.8.0,>=3.7.2->en-core-web-sm==3.7.1) (1.0.10)\n",
      "Requirement already satisfied: cymem<2.1.0,>=2.0.2 in /Users/tusharbudhwani/anaconda3/lib/python3.11/site-packages (from spacy<3.8.0,>=3.7.2->en-core-web-sm==3.7.1) (2.0.8)\n",
      "Requirement already satisfied: preshed<3.1.0,>=3.0.2 in /Users/tusharbudhwani/anaconda3/lib/python3.11/site-packages (from spacy<3.8.0,>=3.7.2->en-core-web-sm==3.7.1) (3.0.9)\n",
      "Requirement already satisfied: thinc<8.3.0,>=8.1.8 in /Users/tusharbudhwani/anaconda3/lib/python3.11/site-packages (from spacy<3.8.0,>=3.7.2->en-core-web-sm==3.7.1) (8.2.1)\n",
      "Requirement already satisfied: wasabi<1.2.0,>=0.9.1 in /Users/tusharbudhwani/anaconda3/lib/python3.11/site-packages (from spacy<3.8.0,>=3.7.2->en-core-web-sm==3.7.1) (1.1.2)\n",
      "Requirement already satisfied: srsly<3.0.0,>=2.4.3 in /Users/tusharbudhwani/anaconda3/lib/python3.11/site-packages (from spacy<3.8.0,>=3.7.2->en-core-web-sm==3.7.1) (2.4.8)\n",
      "Requirement already satisfied: catalogue<2.1.0,>=2.0.6 in /Users/tusharbudhwani/anaconda3/lib/python3.11/site-packages (from spacy<3.8.0,>=3.7.2->en-core-web-sm==3.7.1) (2.0.10)\n",
      "Requirement already satisfied: weasel<0.4.0,>=0.1.0 in /Users/tusharbudhwani/anaconda3/lib/python3.11/site-packages (from spacy<3.8.0,>=3.7.2->en-core-web-sm==3.7.1) (0.3.4)\n",
      "Requirement already satisfied: typer<0.10.0,>=0.3.0 in /Users/tusharbudhwani/anaconda3/lib/python3.11/site-packages (from spacy<3.8.0,>=3.7.2->en-core-web-sm==3.7.1) (0.9.0)\n",
      "Requirement already satisfied: smart-open<7.0.0,>=5.2.1 in /Users/tusharbudhwani/anaconda3/lib/python3.11/site-packages (from spacy<3.8.0,>=3.7.2->en-core-web-sm==3.7.1) (5.2.1)\n",
      "Requirement already satisfied: tqdm<5.0.0,>=4.38.0 in /Users/tusharbudhwani/anaconda3/lib/python3.11/site-packages (from spacy<3.8.0,>=3.7.2->en-core-web-sm==3.7.1) (4.65.0)\n",
      "Requirement already satisfied: requests<3.0.0,>=2.13.0 in /Users/tusharbudhwani/anaconda3/lib/python3.11/site-packages (from spacy<3.8.0,>=3.7.2->en-core-web-sm==3.7.1) (2.31.0)\n",
      "Requirement already satisfied: pydantic!=1.8,!=1.8.1,<3.0.0,>=1.7.4 in /Users/tusharbudhwani/anaconda3/lib/python3.11/site-packages (from spacy<3.8.0,>=3.7.2->en-core-web-sm==3.7.1) (1.10.8)\n",
      "Requirement already satisfied: jinja2 in /Users/tusharbudhwani/anaconda3/lib/python3.11/site-packages (from spacy<3.8.0,>=3.7.2->en-core-web-sm==3.7.1) (3.1.2)\n",
      "Requirement already satisfied: setuptools in /Users/tusharbudhwani/anaconda3/lib/python3.11/site-packages (from spacy<3.8.0,>=3.7.2->en-core-web-sm==3.7.1) (68.0.0)\n",
      "Requirement already satisfied: packaging>=20.0 in /Users/tusharbudhwani/anaconda3/lib/python3.11/site-packages (from spacy<3.8.0,>=3.7.2->en-core-web-sm==3.7.1) (23.1)\n",
      "Requirement already satisfied: langcodes<4.0.0,>=3.2.0 in /Users/tusharbudhwani/anaconda3/lib/python3.11/site-packages (from spacy<3.8.0,>=3.7.2->en-core-web-sm==3.7.1) (3.3.0)\n",
      "Requirement already satisfied: numpy>=1.19.0 in /Users/tusharbudhwani/anaconda3/lib/python3.11/site-packages (from spacy<3.8.0,>=3.7.2->en-core-web-sm==3.7.1) (1.24.3)\n",
      "Requirement already satisfied: typing-extensions>=4.2.0 in /Users/tusharbudhwani/anaconda3/lib/python3.11/site-packages (from pydantic!=1.8,!=1.8.1,<3.0.0,>=1.7.4->spacy<3.8.0,>=3.7.2->en-core-web-sm==3.7.1) (4.7.1)\n",
      "Requirement already satisfied: charset-normalizer<4,>=2 in /Users/tusharbudhwani/anaconda3/lib/python3.11/site-packages (from requests<3.0.0,>=2.13.0->spacy<3.8.0,>=3.7.2->en-core-web-sm==3.7.1) (2.0.4)\n",
      "Requirement already satisfied: idna<4,>=2.5 in /Users/tusharbudhwani/anaconda3/lib/python3.11/site-packages (from requests<3.0.0,>=2.13.0->spacy<3.8.0,>=3.7.2->en-core-web-sm==3.7.1) (3.4)\n",
      "Requirement already satisfied: urllib3<3,>=1.21.1 in /Users/tusharbudhwani/anaconda3/lib/python3.11/site-packages (from requests<3.0.0,>=2.13.0->spacy<3.8.0,>=3.7.2->en-core-web-sm==3.7.1) (1.26.16)\n",
      "Requirement already satisfied: certifi>=2017.4.17 in /Users/tusharbudhwani/anaconda3/lib/python3.11/site-packages (from requests<3.0.0,>=2.13.0->spacy<3.8.0,>=3.7.2->en-core-web-sm==3.7.1) (2023.11.17)\n",
      "Requirement already satisfied: blis<0.8.0,>=0.7.8 in /Users/tusharbudhwani/anaconda3/lib/python3.11/site-packages (from thinc<8.3.0,>=8.1.8->spacy<3.8.0,>=3.7.2->en-core-web-sm==3.7.1) (0.7.11)\n",
      "Requirement already satisfied: confection<1.0.0,>=0.0.1 in /Users/tusharbudhwani/anaconda3/lib/python3.11/site-packages (from thinc<8.3.0,>=8.1.8->spacy<3.8.0,>=3.7.2->en-core-web-sm==3.7.1) (0.1.4)\n",
      "Requirement already satisfied: click<9.0.0,>=7.1.1 in /Users/tusharbudhwani/anaconda3/lib/python3.11/site-packages (from typer<0.10.0,>=0.3.0->spacy<3.8.0,>=3.7.2->en-core-web-sm==3.7.1) (8.0.4)\n",
      "Requirement already satisfied: cloudpathlib<0.17.0,>=0.7.0 in /Users/tusharbudhwani/anaconda3/lib/python3.11/site-packages (from weasel<0.4.0,>=0.1.0->spacy<3.8.0,>=3.7.2->en-core-web-sm==3.7.1) (0.16.0)\n",
      "Requirement already satisfied: MarkupSafe>=2.0 in /Users/tusharbudhwani/anaconda3/lib/python3.11/site-packages (from jinja2->spacy<3.8.0,>=3.7.2->en-core-web-sm==3.7.1) (2.1.1)\n",
      "\u001b[38;5;2m✔ Download and installation successful\u001b[0m\n",
      "You can now load the package via spacy.load('en_core_web_sm')\n"
     ]
    }
   ],
   "source": [
    "!pip install spacy\n",
    "!python -m spacy download en_core_web_sm"
   ]
  },
  {
   "cell_type": "code",
   "execution_count": 159,
   "id": "361b3b12",
   "metadata": {},
   "outputs": [],
   "source": [
    "import spacy\n",
    "\n",
    "nlp = spacy.load('en_core_web_sm')\n",
    "\n",
    "# Define a function to lemmatize text using spaCy\n",
    "def lemmatize_text(text):\n",
    "    doc = nlp(text)\n",
    "    return ' '.join([token.lemma_ for token in doc])"
   ]
  },
  {
   "cell_type": "code",
   "execution_count": 160,
   "id": "19817950",
   "metadata": {},
   "outputs": [],
   "source": [
    "articles['lemmatized'] = articles['removed_extra_characters'].apply(lambda x: lemmatize_text(x))"
   ]
  },
  {
   "cell_type": "code",
   "execution_count": 161,
   "id": "4a32062a",
   "metadata": {},
   "outputs": [
    {
     "name": "stdout",
     "output_type": "stream",
     "text": [
      "hard find restaurant place little card table inquiring establishment    really awful   b  tolerable   c  sublime \n",
      "hard find restaurant place little card table inquire establishment     really awful    b   tolerable    c   sublime\n"
     ]
    }
   ],
   "source": [
    "print(articles['removed_extra_characters'].iloc[0])\n",
    "print(articles['lemmatized'].iloc[0])"
   ]
  },
  {
   "cell_type": "code",
   "execution_count": 162,
   "id": "eb53dd92-caf5-41ef-b40d-318f38023ece",
   "metadata": {
    "tags": []
   },
   "outputs": [],
   "source": [
    "def get_synonyms(word, max_synonyms=1):\n",
    "    synonyms = set()\n",
    "    for syn in wordnet.synsets(word):\n",
    "        for lemma in syn.lemmas():\n",
    "            if lemma.name() != word:  # Exclude the original word\n",
    "                synonyms.add(lemma.name())\n",
    "            if len(synonyms) >= max_synonyms:\n",
    "                break\n",
    "        if len(synonyms) >= max_synonyms:\n",
    "            break\n",
    "    return list(synonyms) \n",
    "\n",
    "def expand_text_with_synonyms(text):\n",
    "    words = nltk.word_tokenize(text)\n",
    "    expanded_text = []\n",
    "\n",
    "    for word in words:\n",
    "        synonyms = get_synonyms(word, max_synonyms=1)\n",
    "        if synonyms:\n",
    "            expanded_text.extend(synonyms)\n",
    "        else:\n",
    "            expanded_text.append(word)\n",
    "\n",
    "    return ' '.join(expanded_text)\n"
   ]
  },
  {
   "cell_type": "code",
   "execution_count": 163,
   "id": "b16ba690-c4a5-4dd1-ae32-0097e271b7c9",
   "metadata": {
    "tags": []
   },
   "outputs": [],
   "source": [
    "articles['synonyms'] = articles['lemmatized'].apply(lambda x: expand_text_with_synonyms(x))"
   ]
  },
  {
   "cell_type": "code",
   "execution_count": 164,
   "id": "e524af9b-aa0e-48e8-84a5-22c39866ac29",
   "metadata": {
    "tags": []
   },
   "outputs": [
    {
     "name": "stdout",
     "output_type": "stream",
     "text": [
      "ever get enough prince harry ? answer   rhetorical question   back another roundup\n"
     ]
    }
   ],
   "source": [
    "print(articles['lemmatized'].iloc[25])"
   ]
  },
  {
   "cell_type": "code",
   "execution_count": 165,
   "id": "826afe3e-dda7-4631-ac87-ee0d8d68eac1",
   "metadata": {
    "tags": []
   },
   "outputs": [],
   "source": [
    "articles['appended_synonyms'] = articles['lemmatized'] + articles['synonyms']"
   ]
  },
  {
   "cell_type": "code",
   "execution_count": 166,
   "id": "2e80833e-4112-46bc-9bf1-8bb9ec0f155c",
   "metadata": {
    "tags": []
   },
   "outputs": [
    {
     "data": {
      "text/plain": [
       "'duchess catherine continue peck away furnish london apartment country house   former estimateduchess Catherine_of_Aragon go_on batch outside supply London flat state firm erstwhile estimation'"
      ]
     },
     "execution_count": 166,
     "metadata": {},
     "output_type": "execute_result"
    }
   ],
   "source": [
    "articles['appended_synonyms'].iloc[1]"
   ]
  },
  {
   "cell_type": "code",
   "execution_count": 167,
   "id": "ae788e1d-7e2d-4896-8be2-7b27ee9d48fe",
   "metadata": {
    "tags": []
   },
   "outputs": [
    {
     "name": "stdout",
     "output_type": "stream",
     "text": [
      "Requirement already satisfied: rank_bm25 in /Users/tusharbudhwani/anaconda3/lib/python3.11/site-packages (0.2.2)\r\n",
      "Requirement already satisfied: numpy in /Users/tusharbudhwani/anaconda3/lib/python3.11/site-packages (from rank_bm25) (1.24.3)\r\n"
     ]
    }
   ],
   "source": [
    "!pip install rank_bm25\n",
    "from rank_bm25 import BM25Okapi"
   ]
  },
  {
   "cell_type": "code",
   "execution_count": 168,
   "id": "2c0448cd-392e-40a5-938b-7f190148d1cb",
   "metadata": {
    "tags": []
   },
   "outputs": [],
   "source": [
    "corpus = df['profile'].apply(lambda x: [item['text'] for item in x]).tolist()"
   ]
  },
  {
   "cell_type": "code",
   "execution_count": 169,
   "id": "de406a67-6bf1-44e1-9bc4-79f710bcec7f",
   "metadata": {
    "tags": []
   },
   "outputs": [
    {
     "data": {
      "text/plain": [
       "[['The three make a trip of atypical opera themes, but no new opera brought the Met as much controversy as Klinghoffer.',\n",
       "  \"Though I might not subscribe to every prayer in the Siddur, I always use the synagogue time for my own prayer of thanks for being alive and the multitudes of blessings I enjoy.  I want to let the Lord know I haven't forgotten them.  Then, leaving the hall, the yarmulke still in place on my head, I head home feeling a little purer.\",\n",
       "  'I expected him to do well and show me some of his work. The money could be renewed for the second semester and the next year of college. Though I imagined that Mel would want to maintain periodic contact -- at least it was what I hoped -- I was wrong.',\n",
       "  'Although my mother swept away any feeling for her native land, I saw my trips as partly for her, maybe an effort to reconnect her to a land that only I wanted her to reconnect with.']]"
      ]
     },
     "execution_count": 169,
     "metadata": {},
     "output_type": "execute_result"
    }
   ],
   "source": [
    "corpus[:1]"
   ]
  },
  {
   "cell_type": "code",
   "execution_count": 170,
   "id": "08fd523a-90b5-4c7c-9bf9-2f1f0ea98881",
   "metadata": {
    "tags": []
   },
   "outputs": [],
   "source": [
    "tokenized_corpus = [[word_tokenize(sentence) for sentence in text_list] for text_list in corpus]"
   ]
  },
  {
   "cell_type": "code",
   "execution_count": 171,
   "id": "cd4a145a-59cb-43c8-864d-2800338de911",
   "metadata": {
    "tags": []
   },
   "outputs": [],
   "source": [
    "bm25_instances = []\n",
    "for sublist in tokenized_corpus:\n",
    "    bm25_instance = BM25Okapi(sublist)\n",
    "    \n",
    "    # Append the BM25 instance to the list\n",
    "    bm25_instances.append(bm25_instance)\n",
    "# bm25_instances['bm25_instance'] = tokenized_corpus_df['Tokenized_Sentences'].apply(lambda x: BM25Okapi(x))"
   ]
  },
  {
   "cell_type": "code",
   "execution_count": 172,
   "id": "abc58225-466c-4dfe-8c56-f3a2129305b7",
   "metadata": {
    "tags": []
   },
   "outputs": [
    {
     "data": {
      "text/plain": [
       "[<rank_bm25.BM25Okapi at 0x38eeee6d0>]"
      ]
     },
     "execution_count": 172,
     "metadata": {},
     "output_type": "execute_result"
    }
   ],
   "source": [
    "bm25_instances[:1]"
   ]
  },
  {
   "cell_type": "code",
   "execution_count": 173,
   "id": "42c1f7c9-b3de-4654-9fc4-d7feb887f78f",
   "metadata": {
    "tags": []
   },
   "outputs": [],
   "source": [
    "# query = articles['removed_extra_characters'].head(1).to_string()\n",
    "query = articles['appended_synonyms'].to_string()\n",
    "# query = articles['lemmatized'].to_string()"
   ]
  },
  {
   "cell_type": "code",
   "execution_count": 174,
   "id": "b764f7c4-6962-496d-9a1d-8f5116987029",
   "metadata": {
    "tags": []
   },
   "outputs": [],
   "source": [
    "query_instances = pd.DataFrame()"
   ]
  },
  {
   "cell_type": "code",
   "execution_count": 175,
   "id": "95ec67d7-f9ce-4c8e-a8d5-36ffd29387dc",
   "metadata": {
    "tags": []
   },
   "outputs": [
    {
     "data": {
      "text/html": [
       "<div>\n",
       "<style scoped>\n",
       "    .dataframe tbody tr th:only-of-type {\n",
       "        vertical-align: middle;\n",
       "    }\n",
       "\n",
       "    .dataframe tbody tr th {\n",
       "        vertical-align: top;\n",
       "    }\n",
       "\n",
       "    .dataframe thead th {\n",
       "        text-align: right;\n",
       "    }\n",
       "</style>\n",
       "<table border=\"1\" class=\"dataframe\">\n",
       "  <thead>\n",
       "    <tr style=\"text-align: right;\">\n",
       "      <th></th>\n",
       "      <th>query</th>\n",
       "    </tr>\n",
       "  </thead>\n",
       "  <tbody>\n",
       "    <tr>\n",
       "      <th>0</th>\n",
       "      <td>hard find restaurant place little card table i...</td>\n",
       "    </tr>\n",
       "  </tbody>\n",
       "</table>\n",
       "</div>"
      ],
      "text/plain": [
       "                                               query\n",
       "0  hard find restaurant place little card table i..."
      ]
     },
     "execution_count": 175,
     "metadata": {},
     "output_type": "execute_result"
    }
   ],
   "source": [
    "query_instances['query'] = articles['appended_synonyms'].apply(lambda x: x)\n",
    "# query_instances['query'] = articles['lemmatized'].apply(lambda x: x)\n",
    "query_instances.head(1)"
   ]
  },
  {
   "cell_type": "code",
   "execution_count": 176,
   "id": "ebca924a-a2f1-46ae-bf7e-5e4dd2ffae27",
   "metadata": {
    "tags": []
   },
   "outputs": [
    {
     "data": {
      "text/html": [
       "<div>\n",
       "<style scoped>\n",
       "    .dataframe tbody tr th:only-of-type {\n",
       "        vertical-align: middle;\n",
       "    }\n",
       "\n",
       "    .dataframe tbody tr th {\n",
       "        vertical-align: top;\n",
       "    }\n",
       "\n",
       "    .dataframe thead th {\n",
       "        text-align: right;\n",
       "    }\n",
       "</style>\n",
       "<table border=\"1\" class=\"dataframe\">\n",
       "  <thead>\n",
       "    <tr style=\"text-align: right;\">\n",
       "      <th></th>\n",
       "      <th>query</th>\n",
       "    </tr>\n",
       "  </thead>\n",
       "  <tbody>\n",
       "    <tr>\n",
       "      <th>0</th>\n",
       "      <td>[hard, find, restaurant, place, little, card, ...</td>\n",
       "    </tr>\n",
       "  </tbody>\n",
       "</table>\n",
       "</div>"
      ],
      "text/plain": [
       "                                               query\n",
       "0  [hard, find, restaurant, place, little, card, ..."
      ]
     },
     "execution_count": 176,
     "metadata": {},
     "output_type": "execute_result"
    }
   ],
   "source": [
    "tokenized_query = pd.DataFrame()\n",
    "tokenized_query['query'] = query_instances['query'].apply(lambda x: x.split())\n",
    "tokenized_query.head(1)"
   ]
  },
  {
   "cell_type": "code",
   "execution_count": 177,
   "id": "b6cc85d6-5a0d-44c0-be3d-6b29e242cd4e",
   "metadata": {
    "tags": []
   },
   "outputs": [],
   "source": [
    "tokenized_query_list = tokenized_query.values.tolist()\n",
    "tokenized_query_list = sum(tokenized_query_list, [])"
   ]
  },
  {
   "cell_type": "markdown",
   "id": "48e08585",
   "metadata": {
    "tags": []
   },
   "source": [
    "tokenized_query_list[:1]"
   ]
  },
  {
   "cell_type": "markdown",
   "id": "bc76348b",
   "metadata": {},
   "source": [
    "# BM25 Retrieval"
   ]
  },
  {
   "cell_type": "code",
   "execution_count": 179,
   "id": "acd38c5d-0d3c-4331-865e-aa66b0722f41",
   "metadata": {
    "scrolled": false,
    "tags": []
   },
   "outputs": [
    {
     "data": {
      "text/plain": [
       "[array([ 0.        ,  0.        ,  0.        ,  0.        ,  0.        ,\n",
       "         0.        ,  0.        ,  4.12883893,  0.        ,  3.31944997,\n",
       "         2.17551694,  0.        ,  0.        ,  0.        ,  0.        ,\n",
       "         0.        ,  3.90694033,  0.        ,  0.        ,  0.        ,\n",
       "         0.        ,  0.        ,  2.29037931,  0.        ,  0.        ,\n",
       "         0.        ,  2.17551694,  0.        ,  0.        ,  0.        ,\n",
       "         0.        ,  0.        ,  0.        , 12.5554493 ,  0.        ,\n",
       "         0.        ,  0.        ,  3.90694033,  2.93542304,  0.        ,\n",
       "         0.        ,  0.        ,  0.        ,  0.        ,  0.        ,\n",
       "         3.77180028,  0.        , 12.5554493 ,  5.2142467 ,  0.        ,\n",
       "         0.        ,  0.        ,  3.47159626,  0.        ,  0.        ,\n",
       "         5.72666892,  0.        ,  0.        ,  0.        ,  0.        ,\n",
       "         2.10513534,  0.        ,  0.        ,  0.        ,  0.        ,\n",
       "        12.5554493 ,  0.        ,  0.        ,  0.        ,  0.        ,\n",
       "         0.        ,  2.98996391,  0.        ,  2.37393836,  0.        ,\n",
       "         0.        ,  4.12883893,  4.02290199,  0.        , 12.33448286,\n",
       "         0.        ,  0.        ,  2.83210058])]"
      ]
     },
     "execution_count": 179,
     "metadata": {},
     "output_type": "execute_result"
    }
   ],
   "source": [
    "doc_scores = []\n",
    "for query, bm25_instance in zip(tokenized_query_list, bm25_instances):\n",
    "    doc_score = bm25_instance.get_scores(query)\n",
    "#     print(query)\n",
    "#     print(bm25_instance)\n",
    "    # Append the scores to the list\n",
    "    doc_scores.append(doc_score)\n",
    "# doc_scores['doc_scores'] = bm25_instances.apply(lambda x: x.split())\n",
    "\n",
    "doc_scores[19:20]"
   ]
  },
  {
   "cell_type": "code",
   "execution_count": null,
   "id": "3f1a7893",
   "metadata": {},
   "outputs": [],
   "source": []
  },
  {
   "cell_type": "code",
   "execution_count": 180,
   "id": "aa6411e2",
   "metadata": {},
   "outputs": [
    {
     "name": "stdout",
     "output_type": "stream",
     "text": [
      "Back in August, The Denver Post’s John Ingold scrutinized statements from conservatives that Colorado should free up money\n",
      "[0.         2.88926974 2.48929956 0.         5.09518533 0.50976597\n",
      " 0.         2.89900495 0.50976597 0.         0.         0.\n",
      " 0.45113083 0.87634777 3.64471508 0.4786594  0.         0.\n",
      " 0.         2.47059855 1.47501704 0.45113083 5.59372966 1.38314084\n",
      " 0.95396388 2.95523485 3.93545013 0.70046391 0.87634777 0.97556476\n",
      " 1.41744777 3.99048727]\n"
     ]
    },
    {
     "data": {
      "text/plain": [
       "[{'text': 'Sounding much like Trump, who last week called the Republican tax bill\\xa0“one of the great Christmas gifts to middle-income',\n",
       "  'title': \"Echoing Trump, Gardner Says Passage Of Tax Bill Will Be A 'Great Christmas Celebration Across The Country'\",\n",
       "  'category': 'politics',\n",
       "  'id': '10320'},\n",
       " {'text': 'U.S. Sen. Cory Gardner (R-CO) has been taking it pretty hard from all Coloradans, judging from his low approval ratings, and',\n",
       "  'title': \"Conservative Group Gives Gardner 'Enema Of The State' Award\",\n",
       "  'category': 'politics',\n",
       "  'id': '10321'},\n",
       " {'text': 'Colorado officials and pro-abortion advocates are ecstatic over new statistics showing that the teen abortion rate has dropped',\n",
       "  'title': \"Anti-Choice Leaders In Colorado Still Angry About Program That's Dropped Teen Abortion Rate By 64 Percent\",\n",
       "  'category': 'politics',\n",
       "  'id': '10322'},\n",
       " {'text': 'State Sen. Kevin Lundberg (R-Berthoud), who’s running for state treasurer, is touting his endorsement by David Barton, who’s',\n",
       "  'title': \"Candidate For Colorado's Treasurer Welcomes Endorsement From 'Fervent Homophobe'\",\n",
       "  'category': 'politics',\n",
       "  'id': '10323'},\n",
       " {'text': 'Republicans and Democrats alike should face the fact that a circular firing squad is unavoidable in a primary campaign with',\n",
       "  'title': \"Is Tancredo's Attack On Brauchler Out Of Bounds Or Circular Firing Squad Material?\",\n",
       "  'category': 'politics',\n",
       "  'id': '10324'},\n",
       " {'text': 'When our legislators disregard truth and give in to infantile impulses, the results are a sight to see.',\n",
       "  'title': 'Grow Up, Man Up, And Accept Fake News?',\n",
       "  'category': 'politics',\n",
       "  'id': '10325'},\n",
       " {'text': 'U.S. Sen. Cory Gardner (R-CO) has yet to comment on Trump’s latest effort to deliver a body blow to Obamacare by eliminating',\n",
       "  'title': 'Gardner’s Push For Trump To Dismantle Obamacare Is Coming To Fruition',\n",
       "  'category': 'politics',\n",
       "  'id': '10326'},\n",
       " {'text': 'Back when he was running for U.S. Senate in 2014, Sen. Cory Gardner (R—CO) dismissed his opponents’ repeated accusations',\n",
       "  'title': \"Gardner, Who Called Questions About Women's Health A Distraction, Has Now Voted Nine Times To De-Fund Planned Parenthood\",\n",
       "  'category': 'politics',\n",
       "  'id': '10327'},\n",
       " {'text': 'With funds for Planned Parenthood and women’s health programs on the chopping block in the latest GOP Obamacare-replacement',\n",
       "  'title': 'Pro-Abortion Video: “What Do These Objects Have in Common?”',\n",
       "  'category': 'women',\n",
       "  'id': '10328'},\n",
       " {'text': 'Former Republican Congressman Tom Tancredo is considering a run for governor because he’s “bored” and mad at Republicans',\n",
       "  'title': \"Coffman Says Tancredo Is 'Bored' And Angry\",\n",
       "  'category': 'politics',\n",
       "  'id': '10329'},\n",
       " {'text': 'One response to a civil war is to try to be on both sides of it.',\n",
       "  'title': 'Brauchler Wants Undocumented Immigrants Out Of Here... Or Does He?',\n",
       "  'category': 'politics',\n",
       "  'id': '103210'},\n",
       " {'text': 'Susan Lontine did more than just delete the post. She owned the mistake.',\n",
       "  'title': 'Kudos To A Lawmaker Who Owns Her Fake News Mistake',\n",
       "  'category': 'politics',\n",
       "  'id': '103211'},\n",
       " {'text': \"With U.S. Sen. Cory Gardner's (R-CO) first solo town halls in about 500 days taking place today, it's worth reviewing how\",\n",
       "  'title': \"Gardner Wants To Lower Insurance Costs, But Where's His Plan?\",\n",
       "  'category': 'politics',\n",
       "  'id': '103212'},\n",
       " {'text': \"Protesters at U.S. Sen. Cory Gardner’s (R-CO) town hall meeting at Colorado Christian University's (CCU) 900-person-capacity\",\n",
       "  'title': 'Protesters Not Allowed On Property Where Gardner Will Hold Town Hall Today',\n",
       "  'category': 'politics',\n",
       "  'id': '103213'},\n",
       " {'text': 'Rep. Mike Coffman broke from conservative orthodox thinking last week when he stated that there\\'s\\xa0\"not taxpayer funding for',\n",
       "  'title': 'Has Coffman Become A Pile Of Mush?',\n",
       "  'category': 'politics',\n",
       "  'id': '103214'},\n",
       " {'text': 'A much anticipated \"town hall\" meeting with U.S. Sen. Cory Gardner and three other lawmakers, scheduled to take place in',\n",
       "  'title': \"About Five Minutes Allocated For Questions At Gardner's First 'Town Hall' In 494 Days\",\n",
       "  'category': 'politics',\n",
       "  'id': '103215'},\n",
       " {'text': 'After first being undecided and then voting for three GOP proposals to kill Obamacare, U.S. Sen. Cory Gardner says he has',\n",
       "  'title': \"Gardner Is Undecided But 'Very Intrigued' By Latest Proposal To Blow Up Obamacare\",\n",
       "  'category': 'politics',\n",
       "  'id': '103216'},\n",
       " {'text': 'U.S. Rep. Ken Buck (R-CO) grabbed headlines yesterday by declaring the Republican Party “dead.” ‘After eight years of assuring',\n",
       "  'title': 'Prominent Colorado Republicans Rip Their Own Party',\n",
       "  'category': 'politics',\n",
       "  'id': '103217'},\n",
       " {'text': 'U.S. Sen. Cory Gardner (R-CO) is now undecided on whether he’d support GOP legislation to repeal Obamacare without replacing',\n",
       "  'title': 'Gardner Has Yet To Answer His Own Questions About Repealing Obamacare',\n",
       "  'category': 'politics',\n",
       "  'id': '103218'},\n",
       " {'text': 'The Fake News Pledge has now been signed by seven state lawmakers, all Democrats: State Representatives Mike Foote of Lafayette',\n",
       "  'title': '7 Colorado Lawmakers Sign The Fake News Pledge',\n",
       "  'category': 'politics',\n",
       "  'id': '103219'},\n",
       " {'text': 'Monger was featured in a Healthier Colorado advertisement opposing the U.S. Senate’s bill to replace Obamacare.',\n",
       "  'title': \"Gardner's Fake Schedule Conflict?\",\n",
       "  'category': 'politics',\n",
       "  'id': '103220'},\n",
       " {'text': \"Here's my list of key questions for Gardner. Please add yours in the comment section. What’s the highest number of people\",\n",
       "  'title': 'My Questions For Senator Gardner About The Health Care Bill. Add Yours.',\n",
       "  'category': 'politics',\n",
       "  'id': '103221'},\n",
       " {'text': 'The Western Conservative Summit bills itself as the “largest gathering of conservatives outside of Washington, D.C.,” \\xa0drawing',\n",
       "  'title': \"Conservatives Promote Giant Conference With Ad Depicting Gardner As A 'CONFIRMED' Speaker\",\n",
       "  'category': 'politics',\n",
       "  'id': '103222'},\n",
       " {'text': 'U.S. Sen. Cory Gardner (R-CO) built his political career in Colorado, and rallied grassroots Republican support, by opposing',\n",
       "  'title': 'Will Gardner Again Vote Against Planned Parenthood?',\n",
       "  'category': 'politics',\n",
       "  'id': '103223'},\n",
       " {'text': 'In an appearance on conservative radio Thursday, Colorado Sen. Cory Gardner pointed to props and costumed-protesters at his',\n",
       "  'title': \"Gardner Links 'Coffins' And 'Grim Reaper' At His Office With Shooting Of Congressman\",\n",
       "  'category': 'politics',\n",
       "  'id': '103224'},\n",
       " {'text': 'During a conference call in February, Colorado Sen. Cory Gardner assured worried constituents that they would have plenty',\n",
       "  'title': \"Gardner Promised Obamacare Replacement Wouldn't Be Drafted 'Behind Closed Doors'\",\n",
       "  'category': 'politics',\n",
       "  'id': '103225'},\n",
       " {'text': 'Back in March, Colorado Sen. Cory Gardner joined fellow Republican Senators Shelley Moore Capito of West Virginia, Lisa Murkowski',\n",
       "  'title': 'Gardner Wants To End, Not Protect, Insurance Coverage For 400,000 Coloradans',\n",
       "  'category': 'politics',\n",
       "  'id': '103226'},\n",
       " {'text': 'To fight fake news in a bipartisan way, Republicans and Democrats\\xa0need to find it in themselves to trust professional journalism',\n",
       "  'title': \"Can Conservatives And Progressives Trust Journalism For The Sake Of Fighting 'Fake News'?\",\n",
       "  'category': 'politics',\n",
       "  'id': '103227'},\n",
       " {'text': 'In a major change since last year, state Republicans are now proposing specific cuts to Medicaid, Colorado’s health care',\n",
       "  'title': 'State Legislators In Colorado Join Trump In Proposing To Push People Off State Health Insurance',\n",
       "  'category': 'healthy living',\n",
       "  'id': '103228'},\n",
       " {'text': \"Over 1,500 people gathered last month and put questions to a cardboard cutout of Colorado's senator.\",\n",
       "  'title': 'Gardner Loves Conservative Radio Shows But not Town Halls',\n",
       "  'category': 'politics',\n",
       "  'id': '103229'},\n",
       " {'text': 'Huffington Post reporter Matt Fuller tweeted this morning that U.S. Rep. Mike Coffman refused to talk to him because, Coffman',\n",
       "  'title': 'Rep. Mike Coffman Refuses Interview With Huffpost Journalist, But He Loves Talk Radio!',\n",
       "  'category': 'politics',\n",
       "  'id': '103230'},\n",
       " {'text': 'Gardner emphasizes repeatedly that he wants to hear from real people, not fake protesters.',\n",
       "  'title': \"Dissecting Gardner's Thoughts On The 'Paid Protesters' Allegedly Hounding Him\",\n",
       "  'category': 'politics',\n",
       "  'id': '103231'}]"
      ]
     },
     "execution_count": 180,
     "metadata": {},
     "output_type": "execute_result"
    }
   ],
   "source": [
    "print(articles['input'].iloc[32])\n",
    "scoree = bm25_instances[32].get_scores(articles['input'].iloc[32].split())\n",
    "print(scoree)\n",
    "df['profile'].iloc[32]"
   ]
  },
  {
   "cell_type": "code",
   "execution_count": 181,
   "id": "fae2cbe0-1fc3-4662-af03-c39f1e74245f",
   "metadata": {
    "tags": []
   },
   "outputs": [],
   "source": [
    "top_k_documents_list = []\n",
    "\n",
    "for query, corp, bm25_instance in zip(tokenized_query_list, corpus, bm25_instances): \n",
    "    top_k_document = bm25_instance.get_top_n(query, corp, n=3)  \n",
    "    top_k_documents_list.append(top_k_document)"
   ]
  },
  {
   "cell_type": "code",
   "execution_count": 182,
   "id": "e7be62af-6724-4945-ae02-f60108d8695d",
   "metadata": {
    "tags": []
   },
   "outputs": [
    {
     "data": {
      "text/plain": [
       "[[\"Though I might not subscribe to every prayer in the Siddur, I always use the synagogue time for my own prayer of thanks for being alive and the multitudes of blessings I enjoy.  I want to let the Lord know I haven't forgotten them.  Then, leaving the hall, the yarmulke still in place on my head, I head home feeling a little purer.\",\n",
       "  'Although my mother swept away any feeling for her native land, I saw my trips as partly for her, maybe an effort to reconnect her to a land that only I wanted her to reconnect with.',\n",
       "  'I expected him to do well and show me some of his work. The money could be renewed for the second semester and the next year of college. Though I imagined that Mel would want to maintain periodic contact -- at least it was what I hoped -- I was wrong.']]"
      ]
     },
     "execution_count": 182,
     "metadata": {},
     "output_type": "execute_result"
    }
   ],
   "source": [
    "    \n",
    "top_k_documents_list[:1]"
   ]
  },
  {
   "cell_type": "code",
   "execution_count": 183,
   "id": "05616826-45db-408d-a7d2-9cd01b47d284",
   "metadata": {},
   "outputs": [
    {
     "data": {
      "text/plain": [
       "list"
      ]
     },
     "execution_count": 183,
     "metadata": {},
     "output_type": "execute_result"
    }
   ],
   "source": [
    "type(top_k_documents_list)"
   ]
  },
  {
   "cell_type": "code",
   "execution_count": 184,
   "id": "2976de94-0693-499c-a0bd-01d845b54ccb",
   "metadata": {
    "tags": []
   },
   "outputs": [
    {
     "data": {
      "text/plain": [
       "['(Apparently, Sharon Stone and Quincy Jones once presented two categories in a row and accidentally gave away the second envelope',\n",
       " 'Today, Vanity Fair national political editor Todd S. Purdum discussed the \"substance\" and \"words\" and \"point\" of First Lady Michelle Obama\\'s flawless speech at last night\\'s Democratic National Convention. This post will not be covering any of that.',\n",
       " \"In anticipation of the show's sixth season VF.com phoned Bryant earlier this week to discuss the many character transformations\"]"
      ]
     },
     "execution_count": 184,
     "metadata": {},
     "output_type": "execute_result"
    }
   ],
   "source": [
    "top_k_documents_list[1]"
   ]
  },
  {
   "cell_type": "code",
   "execution_count": 185,
   "id": "76fbadfc-77fa-4777-a443-d99c644c80b9",
   "metadata": {
    "tags": []
   },
   "outputs": [
    {
     "data": {
      "text/plain": [
       "[\"Though I might not subscribe to every prayer in the Siddur, I always use the synagogue time for my own prayer of thanks for being alive and the multitudes of blessings I enjoy.  I want to let the Lord know I haven't forgotten them.  Then, leaving the hall, the yarmulke still in place on my head, I head home feeling a little purer.\",\n",
       " 'Although my mother swept away any feeling for her native land, I saw my trips as partly for her, maybe an effort to reconnect her to a land that only I wanted her to reconnect with.',\n",
       " 'I expected him to do well and show me some of his work. The money could be renewed for the second semester and the next year of college. Though I imagined that Mel would want to maintain periodic contact -- at least it was what I hoped -- I was wrong.']"
      ]
     },
     "execution_count": 185,
     "metadata": {},
     "output_type": "execute_result"
    }
   ],
   "source": [
    "top_k_documents_list[0]"
   ]
  },
  {
   "cell_type": "code",
   "execution_count": 186,
   "id": "9193e778-e2f0-4a80-b52e-df46d04857da",
   "metadata": {
    "tags": []
   },
   "outputs": [
    {
     "data": {
      "text/plain": [
       "\"Which category does this article relate to among the following categories? Just answer with the category name without further explanation. categories: [women, religion, politics, style & beauty, entertainment, culture & arts, sports, science & technology, travel, business, crime, education, healthy living, parents, food & drink] article: It's hard to find a restaurant that doesn't now place a little card at your table inquiring if the establishment was: (a) really awful; (b) tolerable; (c) sublime. User Profile: Though I might not subscribe to every prayer in the Siddur, I always use the synagogue time for my own prayer of thanks for being alive and the multitudes of blessings I enjoy.  I want to let the Lord know I haven't forgotten them.  Then, leaving the hall, the yarmulke still in place on my head, I head home feeling a little purer. Although my mother swept away any feeling for her native land, I saw my trips as partly for her, maybe an effort to reconnect her to a land that only I wanted her to reconnect with. I expected him to do well and show me some of his work. The money could be renewed for the second semester and the next year of college. Though I imagined that Mel would want to maintain periodic contact -- at least it was what I hoped -- I was wrong.\""
      ]
     },
     "execution_count": 186,
     "metadata": {},
     "output_type": "execute_result"
    }
   ],
   "source": [
    "df.loc[0,\"input\"] + \" User Profile: \" + ' '.join(top_k_documents_list[0])"
   ]
  },
  {
   "cell_type": "code",
   "execution_count": 187,
   "id": "e735fd5c",
   "metadata": {},
   "outputs": [],
   "source": [
    "personalized_input_list = []\n",
    "i = 0\n",
    "for item in df['profile']:\n",
    "    # Assuming each item is a list of dictionaries\n",
    "    doc = \"\"\n",
    "    for profile in item:\n",
    "        text = profile['text']\n",
    "        category = profile['category']\n",
    "        if text in top_k_documents_list[i]:\n",
    "            doc = doc + (f'The category for the article: \"{text}\" is \"{category}\", and ')\n",
    "    new_doc = doc[:-6] + \". \"\n",
    "    new_doc = new_doc + df[\"input\"].iloc[i]\n",
    "    # If you only want to print this for the first dictionary in each list, uncomment the following line\n",
    "    i+=1\n",
    "    personalized_input_list.append(new_doc)\n",
    "#     personalized_prompt.append(f'The category for the article: \"{text}\" is \"{category}\". {df['input']})"
   ]
  },
  {
   "cell_type": "code",
   "execution_count": 188,
   "id": "b6eb6657-6714-47d7-8ac6-f23c1548d6e5",
   "metadata": {
    "tags": []
   },
   "outputs": [
    {
     "name": "stdout",
     "output_type": "stream",
     "text": [
      "5914  items added in the data_list\n"
     ]
    }
   ],
   "source": [
    "import json\n",
    "\n",
    "data_list = []\n",
    "\n",
    "for index,row in df.iterrows():\n",
    "    data = {}\n",
    "    data[\"id\"] = str(row[\"id\"])\n",
    "    data[\"input\"] = df.loc[index,\"input\"]\n",
    "    data[\"top_3_user_documents\"] = top_k_documents_list[index]\n",
    "    \n",
    "    data[\"personalized_input\"] = df.loc[index,\"input\"] + \" User Profile: \" + ' '.join(top_k_documents_list[index])\n",
    "#     data[\"personalized_input\"] = personalized_input_list[index]\n",
    "    \n",
    "    data_list.append(data)\n",
    "\n",
    "\n",
    "print(len(data_list), \" items added in the data_list\")"
   ]
  },
  {
   "cell_type": "code",
   "execution_count": 189,
   "id": "37256960-8cc3-448b-ba03-2e8c18e89857",
   "metadata": {},
   "outputs": [],
   "source": [
    "# Convert the dictionary to JSON format\n",
    "json_data = json.dumps(data_list, indent=2)\n",
    "\n",
    "# Save the JSON data to a file in the local directory\n",
    "json_file_path = \"preprocessed/without_synonyms_personalized_validation_k3_Input_UserBased_PNC.json\"\n",
    "with open(json_file_path, \"w\") as json_file:\n",
    "    json_file.write(json_data)"
   ]
  }
 ],
 "metadata": {
  "kernelspec": {
   "display_name": "Python 3 (ipykernel)",
   "language": "python",
   "name": "python3"
  },
  "language_info": {
   "codemirror_mode": {
    "name": "ipython",
    "version": 3
   },
   "file_extension": ".py",
   "mimetype": "text/x-python",
   "name": "python",
   "nbconvert_exporter": "python",
   "pygments_lexer": "ipython3",
   "version": "3.11.5"
  }
 },
 "nbformat": 4,
 "nbformat_minor": 5
}
